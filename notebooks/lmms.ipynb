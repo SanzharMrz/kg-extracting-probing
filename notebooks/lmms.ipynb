{
 "cells": [
  {
   "cell_type": "code",
   "execution_count": 5,
   "metadata": {},
   "outputs": [],
   "source": [
    "import torch\n",
    "import numpy as np\n",
    "import pandas as pd\n",
    "\n",
    "import fasttext as ft\n",
    "from transformers import BertTokenizer, BertModel"
   ]
  },
  {
   "cell_type": "code",
   "execution_count": 56,
   "metadata": {},
   "outputs": [
    {
     "name": "stderr",
     "output_type": "stream",
     "text": [
      "Warning : `load_model` does not return WordVectorModel or SupervisedModel any more, but a `FastText` object which is very similar.\n"
     ]
    }
   ],
   "source": [
    "ft_model = ft.load_model('path/to/model/cc.en.300.bin')\n",
    "device = torch.device('cuda' if torch.cuda.is_available() else 'cpu')"
   ]
  },
  {
   "cell_type": "markdown",
   "metadata": {},
   "source": [
    "# Read data"
   ]
  },
  {
   "cell_type": "code",
   "execution_count": 9,
   "metadata": {},
   "outputs": [
    {
     "name": "stdout",
     "output_type": "stream",
     "text": [
      "\n"
     ]
    }
   ],
   "source": [
    "TEXT_REL = pd.read_csv('../data/text_rel.csv')\n",
    "rel_vectors = pd.read_csv('../data/rel_vectors_trex.csv')\n",
    "\n",
    "rel_vectors = rel_vectors.drop(['Unnamed: 0'], axis=1)\n",
    "keys = rel_vectors['index'].values.tolist()\n",
    "values = rel_vectors.iloc[:,1:].astype(float).values.tolist()\n",
    "corpus_rel_vectors = {k:v for k, v in zip(keys, values)}"
   ]
  },
  {
   "cell_type": "markdown",
   "metadata": {},
   "source": [
    "# Define model and tokenizer"
   ]
  },
  {
   "cell_type": "code",
   "execution_count": 51,
   "metadata": {},
   "outputs": [],
   "source": [
    "bert_tokenizer = BertTokenizer.from_pretrained('bert-base-uncased')\n",
    "bert_model = BertModel.from_pretrained(\"bert-base-uncased\")\n",
    "bert_model = bert_model.to(device)"
   ]
  },
  {
   "cell_type": "markdown",
   "metadata": {},
   "source": [
    "# Define funcs"
   ]
  },
  {
   "cell_type": "code",
   "execution_count": 52,
   "metadata": {},
   "outputs": [],
   "source": [
    "def get_bert_vector(text, rel=None):\n",
    "    encoded_input = bert_tokenizer(text, return_tensors='pt').to(device)  \n",
    "    output = bert_model(**encoded_input)\n",
    "    logits = output[0].squeeze()[1:-1]\n",
    "    \n",
    "    default_return = torch.mean(logits, axis=0).detach().cpu().numpy()\n",
    "    if not rel:\n",
    "        return default_return\n",
    "    \n",
    "    encoded_rel = bert_tokenizer(rel, return_tensors='pt')\n",
    "\n",
    "    tokens = bert_tokenizer.convert_ids_to_tokens(encoded_input['input_ids'].squeeze())[1:-1]\n",
    "    \n",
    "    rel_tokens = bert_tokenizer.convert_ids_to_tokens(encoded_rel['input_ids'].squeeze()[1:-1])\n",
    "    indices = []\n",
    "    for rel_tok in rel_tokens:\n",
    "        try:\n",
    "            r_t = tokens.index(rel_tok)\n",
    "        except ValueError:\n",
    "            try:\n",
    "                r_t = tokens.index('##' + rel_tok)\n",
    "            except:\n",
    "                continue \n",
    "        indices.append(r_t)\n",
    "    if len(indices):\n",
    "        return torch.mean(logits[indices,:], axis=0).detach().cpu().numpy()\n",
    "\n",
    "    return default_return"
   ]
  },
  {
   "cell_type": "code",
   "execution_count": 53,
   "metadata": {},
   "outputs": [],
   "source": [
    "def vectorize_rel_via_corpus(relation):\n",
    "    sub_df = TEXT_REL[TEXT_REL.rel_id == relation]\n",
    "    \n",
    "    corpus_vecs = []\n",
    "    for row in sub_df.itertuples():\n",
    "        try:\n",
    "            vec = get_bert_vector(row.text, row.rel)\n",
    "            corpus_vecs.append(vec)\n",
    "        except:\n",
    "            continue\n",
    "\n",
    "    corpus_vecs = np.array(corpus_vecs)   \n",
    "    corpus_vec = np.mean(corpus_vecs, axis=0)\n",
    "    \n",
    "    definition_vec = get_bert_vector(get_description(relation)) \n",
    "    fasttext_vec = ft_model.get_sentence_vector(get_title(relation))\n",
    "    \n",
    "    return np.concatenate((fasttext_vec, corpus_vec, definition_vec))"
   ]
  },
  {
   "cell_type": "code",
   "execution_count": 54,
   "metadata": {},
   "outputs": [],
   "source": [
    "def vectorize_pred_rel(text, rel_pred):\n",
    "    pred_vector = np.concatenate((ft_model.get_sentence_vector(rel_pred), get_bert_vector(text, rel_pred), get_bert_vector(text, rel_pred)))\n",
    "    return pred_vector"
   ]
  }
 ],
 "metadata": {
  "kernelspec": {
   "display_name": "Python 3",
   "language": "python",
   "name": "python3"
  },
  "language_info": {
   "codemirror_mode": {
    "name": "ipython",
    "version": 3
   },
   "file_extension": ".py",
   "mimetype": "text/x-python",
   "name": "python",
   "nbconvert_exporter": "python",
   "pygments_lexer": "ipython3",
   "version": "3.7.3"
  }
 },
 "nbformat": 4,
 "nbformat_minor": 4
}
