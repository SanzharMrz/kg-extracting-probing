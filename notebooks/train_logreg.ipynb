{
 "cells": [
  {
   "cell_type": "code",
   "execution_count": 11,
   "metadata": {},
   "outputs": [],
   "source": [
    "import csv    \n",
    "import pickle\n",
    "import pandas as pd\n",
    "import numpy as np\n",
    "import torch\n",
    "from tqdm.auto import tqdm\n",
    "from collections import Counter\n",
    "import os\n",
    "\n",
    "from sklearn.linear_model import LogisticRegression\n",
    "from sklearn.metrics import confusion_matrix, classification_report\n",
    "from sklearn.utils import shuffle, class_weight\n",
    "from imblearn.under_sampling import RandomUnderSampler \n",
    "\n",
    "import matplotlib.pyplot as plt\n"
   ]
  },
  {
   "cell_type": "code",
   "execution_count": 12,
   "metadata": {},
   "outputs": [],
   "source": [
    "#  костыльное решение того что я плохо записываю np array в csv\n",
    "def read_array(emb: str):\n",
    "    new_array = []\n",
    "    for row in emb.strip('[]').split('\\n'):\n",
    "        for dig in row.split():\n",
    "            new_array.append(float(dig))\n",
    "            \n",
    "    return np.array(new_array).reshape(1, -1)\n",
    "\n",
    "\n",
    "def get_vectors_name(attentions_types, use_bert, use_lmms):\n",
    "    attentions_to_be_used = ['h-r', 'r-t', 'h-t', 'r-h', 't-r', 't-h'] \n",
    "    attentions_to_use = tuple([att for i, att in enumerate(attentions_to_be_used) if attentions_types[i] == 1])\n",
    "    att_names = '_'.join(attentions_to_use)\n",
    "    name = f'{att_names}'\n",
    "    \n",
    "    if use_bert:\n",
    "        name += '_bert'\n",
    "    \n",
    "    if use_lmms:\n",
    "        name += '_lmms'\n",
    "        \n",
    "    return name"
   ]
  },
  {
   "cell_type": "code",
   "execution_count": 47,
   "metadata": {},
   "outputs": [],
   "source": [
    "def get_Xy_data(data_type, vectors_name):\n",
    "    with open(f'./vectors/{data_type}_{vectors_name}.pkl', 'rb') as file:\n",
    "        embeddings = pickle.load(file)\n",
    "    \n",
    "    embeddings_df = pd.DataFrame(embeddings, columns=['embedding', 'triplet', 'rel_label'])\n",
    "\n",
    "    embs = np.array(list(embeddings_df.embedding.values)).squeeze()\n",
    "    labels = embeddings_df.rel_label.values\n",
    "\n",
    "    assert len(embs) == len(labels)\n",
    "    \n",
    "    return embs, labels"
   ]
  },
  {
   "cell_type": "markdown",
   "metadata": {},
   "source": [
    "#### Бинарная классификация (мусор и не-мусор)"
   ]
  },
  {
   "cell_type": "code",
   "execution_count": 56,
   "metadata": {},
   "outputs": [],
   "source": [
    "def train_lr_bin(X_train, labels_train, X_test, labels_test, vectors_name):\n",
    "    y_train = np.array(['0' if label == '0' else '1' for label in labels_train]).reshape(-1, 1)\n",
    "    y_test = np.array(['0' if label == '0' else '1' for label in labels_test]).reshape(-1, 1)\n",
    "\n",
    "    lr_bin = LogisticRegression(max_iter=1000).fit(X_train, y_train)\n",
    "\n",
    "    with open(f'./logreg_models/lr_bin_{vectors_name}.pkl', 'wb') as file:\n",
    "          pickle.dump(lr_bin, file)\n",
    "            \n",
    "    y_pred = lr_bin.predict(X_test)\n",
    "    \n",
    "    report = classification_report(y_test, y_pred, output_dict=True)\n",
    "    report_df = pd.DataFrame(report).transpose()\n",
    "    report_df.to_csv(f'./logreg_models/report_bin_{vectors_name}.csv')\n",
    "#     display(report_df)"
   ]
  },
  {
   "cell_type": "markdown",
   "metadata": {},
   "source": [
    "#### Многоклассовая классификация"
   ]
  },
  {
   "cell_type": "code",
   "execution_count": 57,
   "metadata": {},
   "outputs": [],
   "source": [
    "def train_lr_multi(X_train, y_train, X_test, y_test, vectors_name):    \n",
    "    #  убираем мусорный класс\n",
    "    ros = RandomUnderSampler(sampling_strategy={'0': 0})\n",
    "    \n",
    "    X_tr_resampled, y_tr_resampled = ros.fit_resample(X_train, y_train)\n",
    "    X_train = np.array(X_tr_resampled)\n",
    "    y_train = np.array(y_tr_resampled)\n",
    "    \n",
    "    X_test_resampled, y_test_resampled = ros.fit_resample(X_test, y_test)\n",
    "    X_test = np.array(X_test_resampled)\n",
    "    y_test = np.array(y_test_resampled)\n",
    "\n",
    "    lr_multi = LogisticRegression(class_weight='balanced', max_iter=1000).fit(X_train, y_train)\n",
    "\n",
    "    with open(f'./logreg_models/lr_multi_{vectors_name}.pkl', 'wb') as file:\n",
    "          pickle.dump(lr_multi, file)\n",
    "\n",
    "    y_pred = lr_multi.predict(X_test)\n",
    "\n",
    "    report = classification_report(y_test, y_pred, output_dict=True)\n",
    "    report_df = pd.DataFrame(report).transpose()\n",
    "    report_df.to_csv(f'./logreg_models/report_multi_{vectors_name}.csv')\n",
    "#     display(report_df)"
   ]
  },
  {
   "cell_type": "code",
   "execution_count": 58,
   "metadata": {},
   "outputs": [
    {
     "name": "stderr",
     "output_type": "stream",
     "text": [
      "C:\\anaconda\\lib\\site-packages\\sklearn\\utils\\validation.py:985: DataConversionWarning: A column-vector y was passed when a 1d array was expected. Please change the shape of y to (n_samples, ), for example using ravel().\n",
      "  y = column_or_1d(y, warn=True)\n",
      "C:\\anaconda\\lib\\site-packages\\sklearn\\utils\\validation.py:985: DataConversionWarning: A column-vector y was passed when a 1d array was expected. Please change the shape of y to (n_samples, ), for example using ravel().\n",
      "  y = column_or_1d(y, warn=True)\n"
     ]
    }
   ],
   "source": [
    "combinations = [([1, 1, 0, 0, 0, 0], False, False),\n",
    "                ([1, 1, 0, 0, 0, 0], True, False),]\n",
    "#                 ([1, 1, 0, 0, 0, 0], False, True),\n",
    "#                 ([1, 1, 0, 0, 0, 0], True, True),\n",
    "#                 ([1, 1, 1, 0, 0, 0], False, False),\n",
    "#                 ([1, 1, 1, 0, 0, 0], True, False),\n",
    "#                 ([1, 1, 1, 0, 0, 0], False, True),\n",
    "#                 ([1, 1, 1, 0, 0, 0], True, True)]\n",
    "\n",
    "os.makedirs('./logreg_models/', exist_ok=True)\n",
    "\n",
    "for comb in combinations:\n",
    "    attentions_types, use_bert, use_lmms = comb\n",
    "    vectors_name = get_vectors_name(attentions_types, use_bert, use_lmms)\n",
    "    \n",
    "    X_train, y_train = get_Xy_data('train', vectors_name)\n",
    "    X_test, y_test = get_Xy_data('test', vectors_name)\n",
    "    \n",
    "    \n",
    "    train_lr_bin(X_train, y_train, X_test, y_test, vectors_name)\n",
    "    train_lr_multi(X_train, y_train, X_test, y_test, vectors_name)"
   ]
  },
  {
   "cell_type": "code",
   "execution_count": null,
   "metadata": {},
   "outputs": [],
   "source": [
    "\n"
   ]
  }
 ],
 "metadata": {
  "kernelspec": {
   "display_name": "Python 3 (ipykernel)",
   "language": "python",
   "name": "python3"
  },
  "language_info": {
   "codemirror_mode": {
    "name": "ipython",
    "version": 3
   },
   "file_extension": ".py",
   "mimetype": "text/x-python",
   "name": "python",
   "nbconvert_exporter": "python",
   "pygments_lexer": "ipython3",
   "version": "3.7.3"
  }
 },
 "nbformat": 4,
 "nbformat_minor": 2
}
