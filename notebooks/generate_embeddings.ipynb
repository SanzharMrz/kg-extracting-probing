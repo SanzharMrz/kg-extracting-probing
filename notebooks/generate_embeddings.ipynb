{
 "cells": [
  {
   "cell_type": "code",
   "execution_count": 10,
   "metadata": {},
   "outputs": [],
   "source": [
    "def generate_one_embedding(full_triplet_embedding: tuple, data_type, attention_types, use_bert, use_lmms):\n",
    "    full_embedding = full_triplet_embedding[0]\n",
    "    triplet = full_triplet_embedding[1]\n",
    "    \n",
    "    if data_type == 'train' or data_type == 'test':\n",
    "        rel_label = full_triplet_embedding[2]\n",
    "    \n",
    "    head_rel_emb = full_embedding[0:144]\n",
    "    rel_tail_emb = full_embedding[144:288]\n",
    "    head_tail_emb = full_embedding[432:576]\n",
    "    rel_head_emb = full_embedding[576:720]\n",
    "    tail_rel_emb = full_embedding[720:864]\n",
    "    tail_head_emb = full_embedding[864:1008]\n",
    "    \n",
    "    bert_emb = full_embedding[1008:1776]\n",
    "    lmms_emb = full_embedding[1776:3612]\n",
    "    \n",
    "    attentions_to_be_used = [head_rel_emb, rel_tail_emb, head_tail_emb, rel_head_emb, tail_rel_emb, tail_head_emb] \n",
    "    attentions_to_use = tuple([att for i, att in enumerate(attentions_to_be_used) if attentions_types[i] == 1])\n",
    "    \n",
    "    #  concat chosen vectors into one\n",
    "    triplet_emb = np.concatenate(attentions_to_use, axis=0).squeeze()\n",
    "    sentence = ' '.join(sentence_mapping)\n",
    "    \n",
    "    if use_bert:\n",
    "        triplet_emb = np.concatenate((triplet_emb, bert_emb))\n",
    "                    \n",
    "    if use_lmms:\n",
    "        triplet_emb = np.concatenate((triplet_emb, lmms_emb))\n",
    "        \n",
    "    if data_type == 'train' or data_type == 'test':\n",
    "        new_embedding = (triplet_emb, triplet, rel_label)\n",
    "    else:\n",
    "        new_embedding = (triplet_emb, triplet)\n",
    "        \n",
    "    return new_embedding\n",
    "\n",
    "\n",
    "def get_filename(data_type, attentions_types, use_bert, use_lmms):\n",
    "    attentions_to_be_used = ['h-r', 'r-t', 'h-t', 'r-h', 't-r', 't-h'] \n",
    "    attentions_to_use = tuple([att for i, att in enumerate(attentions_to_be_used) if attentions_types[i] == 1])\n",
    "    att_names = '_'.join(attentions_to_use)\n",
    "    name = f'{data_type}_{att_names}'\n",
    "    \n",
    "    if use_bert:\n",
    "        name += '_bert'\n",
    "    \n",
    "    if use_lmms:\n",
    "        name += '_lmms'\n",
    "        \n",
    "    return name"
   ]
  },
  {
   "cell_type": "code",
   "execution_count": 11,
   "metadata": {},
   "outputs": [],
   "source": [
    "def generate_new_embeddings(data_type, attention_types, use_bert, use_lmms):\n",
    "    # TODO: check path to full embedding\n",
    "    with open(f'./vectors/{data_type}_h-r_r-t_h-t_r-h_t-r_t-h_bert_lmms.pkl', 'rb') as file:\n",
    "        full_embeddings = pickle.load(file)\n",
    "        \n",
    "    new_vectors_name = get_filename(data_type, attentions_types, use_bert, use_lmms)\n",
    "    new_embeddings = []\n",
    "    \n",
    "    for full_emb in full_embeddings:\n",
    "        new_embeddings.append(generate_one_embedding(full_emb, data_type, attention_types, use_bert, use_lmms))\n",
    "    \n",
    "    with open(f'./vectors/{new_vectors_name}.pkl', 'wb') as file:\n",
    "         pickle.dump(full_embeddings, file)"
   ]
  },
  {
   "cell_type": "code",
   "execution_count": null,
   "metadata": {},
   "outputs": [],
   "source": []
  }
 ],
 "metadata": {
  "kernelspec": {
   "display_name": "Python 3 (ipykernel)",
   "language": "python",
   "name": "python3"
  },
  "language_info": {
   "codemirror_mode": {
    "name": "ipython",
    "version": 3
   },
   "file_extension": ".py",
   "mimetype": "text/x-python",
   "name": "python",
   "nbconvert_exporter": "python",
   "pygments_lexer": "ipython3",
   "version": "3.7.3"
  }
 },
 "nbformat": 4,
 "nbformat_minor": 2
}
